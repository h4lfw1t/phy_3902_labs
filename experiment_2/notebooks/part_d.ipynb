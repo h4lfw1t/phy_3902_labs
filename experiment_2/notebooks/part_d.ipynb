{
 "cells": [
  {
   "cell_type": "code",
   "execution_count": null,
   "id": "b3d4be0b",
   "metadata": {},
   "outputs": [],
   "source": [
    "import matplotlib.pyplot as plt\n",
    "import numpy as np\n",
    "import os\n",
    "import pandas as pd\n",
    "\n",
    "from scipy.optimize import curve_fit\n",
    "from scipy.constants import k, e"
   ]
  },
  {
   "cell_type": "code",
   "execution_count": null,
   "id": "c32a34a9",
   "metadata": {},
   "outputs": [],
   "source": [
    "# Retrieve file path\n",
    "data_dir = \"../data\"\n",
    "csv_file = os.path.join(data_dir, \"2c_led.csv\")\n",
    "\n",
    "# Define csv column name remap\n",
    "csv_column_remap = {\n",
    "    \"out\": \"V_out (V)\",\n",
    "    \"A0\": \"V_a0 (V)\",\n",
    "    \"A1\": \"V_in - A1 (V)\",\n",
    "    \"A2\": \"Ground (V)\",\n",
    "    \"A0-A1\": \"Voltage Drop Across R (A0 - A1) (V)\",\n",
    "    \"A1-A2\": \"Voltage Drop Across LED (A1 - Ground) (V)\",\n",
    "    \"current (mA)\": \"Current Through R and LED (mA)\",\n",
    "}\n",
    "\n",
    "\n",
    "# Read csv to dataframe\n",
    "df = pd.read_csv(csv_file)\n",
    "\n",
    "# Rename columns for easier identification\n",
    "df = df.rename(columns=csv_column_remap)\n",
    "\n",
    "df.head()"
   ]
  },
  {
   "cell_type": "code",
   "execution_count": null,
   "id": "fd176171",
   "metadata": {},
   "outputs": [],
   "source": [
    "# Fit the I-V characteristic of the LED: I = I_s * (exp(V/(nV_T)) - 1)\n",
    "def led_iv_curve(V, I_s, n):\n",
    "    V_T = k * 300 / e  # Thermal voltage at room temp (T=300K)\n",
    "    return I_s * (np.exp(V / (n * V_T)) - 1)\n",
    "\n",
    "# Use measured voltage across LED and current through LED\n",
    "V = df[\"Voltage Drop Across LED (A1 - Ground) (V)\"]\n",
    "I = df[\"Current Through R and LED (mA)\"] * 1e-3  # Convert mA to A\n",
    "\n",
    "# Initial parameter guesses: I_s ~ 1e-12 A, n ~ 2\n",
    "p0 = [9.24e-10, 7.06]\n",
    "\n",
    "# Fit the curve\n",
    "popt, pcov = curve_fit(led_iv_curve, V, I, p0=p0, maxfev=10000)\n",
    "I_s_fit, n_fit = popt\n",
    "\n",
    "print(f\"Fitted saturation current I_s: {I_s_fit:.2e} A\")\n",
    "print(f\"Fitted ideality factor n: {n_fit:.2f}\")\n",
    "\n",
    "# Plot the data and the fit\n",
    "plt.figure(figsize=(8,5))\n",
    "plt.scatter(V, I*1e3, label=\"Measured Data\", color=\"blue\")\n",
    "V_fit = np.linspace(V.min(), V.max(), 200)\n",
    "I_fit = led_iv_curve(V_fit, *popt)\n",
    "plt.plot(V_fit, I_fit*1e3, label=\"Fit\", color=\"red\")\n",
    "plt.xlabel(\"Voltage Across LED (V)\")\n",
    "plt.ylabel(\"Current Through LED (mA)\")\n",
    "plt.title(\"LED I-V Characteristic and Fit\")\n",
    "plt.legend()\n",
    "plt.grid(True)\n",
    "plt.show()"
   ]
  }
 ],
 "metadata": {
  "kernelspec": {
   "display_name": "Python 3",
   "language": "python",
   "name": "python3"
  },
  "language_info": {
   "codemirror_mode": {
    "name": "ipython",
    "version": 3
   },
   "file_extension": ".py",
   "mimetype": "text/x-python",
   "name": "python",
   "nbconvert_exporter": "python",
   "pygments_lexer": "ipython3",
   "version": "3.13.7"
  }
 },
 "nbformat": 4,
 "nbformat_minor": 5
}
