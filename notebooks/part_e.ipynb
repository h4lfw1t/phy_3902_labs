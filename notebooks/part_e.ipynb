{
 "cells": [
  {
   "cell_type": "markdown",
   "id": "92d33c03",
   "metadata": {},
   "source": [
    "## LED Frequencies\n",
    "- Blue: 470 (460-475) nm\n",
    "- Green: (520-525) nm\n",
    "- Red: 623 (620-630) nm\n",
    "- Yellow: 589 (585-595) nm"
   ]
  }
 ],
 "metadata": {
  "language_info": {
   "name": "python"
  }
 },
 "nbformat": 4,
 "nbformat_minor": 5
}
